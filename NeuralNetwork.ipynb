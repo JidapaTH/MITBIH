{
 "cells": [
  {
   "cell_type": "markdown",
   "metadata": {},
   "source": [
    "## Neural Network Model\n",
    "\n",
    "Use 1D-KNN\n",
    "\n",
    "Note: This code have to be run after preprocessing.ipynb"
   ]
  },
  {
   "cell_type": "code",
   "execution_count": 30,
   "metadata": {},
   "outputs": [],
   "source": [
    "import numpy as np\n",
    "import pandas as pd\n",
    "import os\n",
    "import pickle\n",
    "from pathlib import Path\n",
    "from keras import backend as K\n",
    "import matplotlib.pyplot as plt"
   ]
  },
  {
   "cell_type": "code",
   "execution_count": 6,
   "metadata": {},
   "outputs": [],
   "source": [
    "from keras.models import Sequential\n",
    "from keras.layers import Conv1D\n",
    "from keras.layers import MaxPooling1D\n",
    "from keras.layers import GlobalAveragePooling1D\n",
    "from keras.layers import Dropout\n",
    "from keras.layers import Flatten\n",
    "from keras.layers import Dense\n",
    "from keras import regularizers\n",
    "from keras.callbacks import ReduceLROnPlateau\n",
    "from sklearn.utils import class_weight\n",
    "from keras.layers import LeakyReLU"
   ]
  },
  {
   "cell_type": "code",
   "execution_count": null,
   "metadata": {},
   "outputs": [],
   "source": []
  },
  {
   "cell_type": "code",
   "execution_count": null,
   "metadata": {},
   "outputs": [],
   "source": [
    "trainset = pickle.load(open(\"./trainset.p\",'rb'))\n",
    "testset = pickle.load(open(\"./testset.p\",'rb'))"
   ]
  },
  {
   "cell_type": "code",
   "execution_count": 58,
   "metadata": {},
   "outputs": [
    {
     "data": {
      "text/html": [
       "<div>\n",
       "<style scoped>\n",
       "    .dataframe tbody tr th:only-of-type {\n",
       "        vertical-align: middle;\n",
       "    }\n",
       "\n",
       "    .dataframe tbody tr th {\n",
       "        vertical-align: top;\n",
       "    }\n",
       "\n",
       "    .dataframe thead th {\n",
       "        text-align: right;\n",
       "    }\n",
       "</style>\n",
       "<table border=\"1\" class=\"dataframe\">\n",
       "  <thead>\n",
       "    <tr style=\"text-align: right;\">\n",
       "      <th></th>\n",
       "      <th>R_interval_mean</th>\n",
       "      <th>R_interval_sd</th>\n",
       "      <th>age</th>\n",
       "      <th>annotation</th>\n",
       "      <th>gender</th>\n",
       "      <th>id</th>\n",
       "      <th>lead</th>\n",
       "      <th>p2p_mean</th>\n",
       "      <th>p2p_std</th>\n",
       "      <th>peak</th>\n",
       "      <th>strip</th>\n",
       "      <th>p2p_diff_form_norm</th>\n",
       "    </tr>\n",
       "    <tr>\n",
       "      <th>stripPVC</th>\n",
       "      <th></th>\n",
       "      <th></th>\n",
       "      <th></th>\n",
       "      <th></th>\n",
       "      <th></th>\n",
       "      <th></th>\n",
       "      <th></th>\n",
       "      <th></th>\n",
       "      <th></th>\n",
       "      <th></th>\n",
       "      <th></th>\n",
       "      <th></th>\n",
       "    </tr>\n",
       "  </thead>\n",
       "  <tbody>\n",
       "    <tr>\n",
       "      <th>False</th>\n",
       "      <td>4046</td>\n",
       "      <td>4046</td>\n",
       "      <td>4046</td>\n",
       "      <td>4046</td>\n",
       "      <td>4046</td>\n",
       "      <td>4046</td>\n",
       "      <td>4046</td>\n",
       "      <td>4046</td>\n",
       "      <td>4046</td>\n",
       "      <td>4046</td>\n",
       "      <td>4046</td>\n",
       "      <td>4046</td>\n",
       "    </tr>\n",
       "    <tr>\n",
       "      <th>True</th>\n",
       "      <td>2434</td>\n",
       "      <td>2434</td>\n",
       "      <td>2434</td>\n",
       "      <td>2434</td>\n",
       "      <td>2434</td>\n",
       "      <td>2434</td>\n",
       "      <td>2434</td>\n",
       "      <td>2434</td>\n",
       "      <td>2434</td>\n",
       "      <td>2434</td>\n",
       "      <td>2434</td>\n",
       "      <td>2434</td>\n",
       "    </tr>\n",
       "  </tbody>\n",
       "</table>\n",
       "</div>"
      ],
      "text/plain": [
       "          R_interval_mean  R_interval_sd   age  annotation  gender    id  \\\n",
       "stripPVC                                                                   \n",
       "False                4046           4046  4046        4046    4046  4046   \n",
       "True                 2434           2434  2434        2434    2434  2434   \n",
       "\n",
       "          lead  p2p_mean  p2p_std  peak  strip  p2p_diff_form_norm  \n",
       "stripPVC                                                            \n",
       "False     4046      4046     4046  4046   4046                4046  \n",
       "True      2434      2434     2434  2434   2434                2434  "
      ]
     },
     "execution_count": 58,
     "metadata": {},
     "output_type": "execute_result"
    }
   ],
   "source": [
    "trainset.groupby('stripPVC').count()"
   ]
  },
  {
   "cell_type": "code",
   "execution_count": 57,
   "metadata": {},
   "outputs": [
    {
     "data": {
      "text/html": [
       "<div>\n",
       "<style scoped>\n",
       "    .dataframe tbody tr th:only-of-type {\n",
       "        vertical-align: middle;\n",
       "    }\n",
       "\n",
       "    .dataframe tbody tr th {\n",
       "        vertical-align: top;\n",
       "    }\n",
       "\n",
       "    .dataframe thead th {\n",
       "        text-align: right;\n",
       "    }\n",
       "</style>\n",
       "<table border=\"1\" class=\"dataframe\">\n",
       "  <thead>\n",
       "    <tr style=\"text-align: right;\">\n",
       "      <th></th>\n",
       "      <th>R_interval_mean</th>\n",
       "      <th>R_interval_sd</th>\n",
       "      <th>age</th>\n",
       "      <th>annotation</th>\n",
       "      <th>gender</th>\n",
       "      <th>id</th>\n",
       "      <th>lead</th>\n",
       "      <th>p2p_mean</th>\n",
       "      <th>p2p_std</th>\n",
       "      <th>peak</th>\n",
       "      <th>strip</th>\n",
       "      <th>p2p_diff_form_norm</th>\n",
       "    </tr>\n",
       "    <tr>\n",
       "      <th>stripPVC</th>\n",
       "      <th></th>\n",
       "      <th></th>\n",
       "      <th></th>\n",
       "      <th></th>\n",
       "      <th></th>\n",
       "      <th></th>\n",
       "      <th></th>\n",
       "      <th></th>\n",
       "      <th></th>\n",
       "      <th></th>\n",
       "      <th></th>\n",
       "      <th></th>\n",
       "    </tr>\n",
       "  </thead>\n",
       "  <tbody>\n",
       "    <tr>\n",
       "      <th>False</th>\n",
       "      <td>1379</td>\n",
       "      <td>1379</td>\n",
       "      <td>1379</td>\n",
       "      <td>1379</td>\n",
       "      <td>1379</td>\n",
       "      <td>1379</td>\n",
       "      <td>1379</td>\n",
       "      <td>1379</td>\n",
       "      <td>1379</td>\n",
       "      <td>1379</td>\n",
       "      <td>1379</td>\n",
       "      <td>1379</td>\n",
       "    </tr>\n",
       "    <tr>\n",
       "      <th>True</th>\n",
       "      <td>1141</td>\n",
       "      <td>1141</td>\n",
       "      <td>1141</td>\n",
       "      <td>1141</td>\n",
       "      <td>1141</td>\n",
       "      <td>1141</td>\n",
       "      <td>1141</td>\n",
       "      <td>1141</td>\n",
       "      <td>1141</td>\n",
       "      <td>1141</td>\n",
       "      <td>1141</td>\n",
       "      <td>1141</td>\n",
       "    </tr>\n",
       "  </tbody>\n",
       "</table>\n",
       "</div>"
      ],
      "text/plain": [
       "          R_interval_mean  R_interval_sd   age  annotation  gender    id  \\\n",
       "stripPVC                                                                   \n",
       "False                1379           1379  1379        1379    1379  1379   \n",
       "True                 1141           1141  1141        1141    1141  1141   \n",
       "\n",
       "          lead  p2p_mean  p2p_std  peak  strip  p2p_diff_form_norm  \n",
       "stripPVC                                                            \n",
       "False     1379      1379     1379  1379   1379                1379  \n",
       "True      1141      1141     1141  1141   1141                1141  "
      ]
     },
     "execution_count": 57,
     "metadata": {},
     "output_type": "execute_result"
    }
   ],
   "source": [
    "USE_KFOLD = True\n",
    "testset.groupby('stripPVC').count()"
   ]
  },
  {
   "cell_type": "code",
   "execution_count": 59,
   "metadata": {},
   "outputs": [],
   "source": [
    "xtrain = trainset['strip']\n",
    "ytrain = [1 if i == True else 0 for i in trainset['stripPVC']]\n",
    "xtest = testset['strip']\n",
    "ytest = [1 if i == True else 0  for i in testset['stripPVC']]"
   ]
  },
  {
   "cell_type": "code",
   "execution_count": 60,
   "metadata": {},
   "outputs": [
    {
     "data": {
      "text/plain": [
       "(6480, 1800, 1)"
      ]
     },
     "execution_count": 60,
     "metadata": {},
     "output_type": "execute_result"
    }
   ],
   "source": [
    "# convert\n",
    "\n",
    "xtrain = np.stack(xtrain)\n",
    "xtrain = np.reshape(xtrain, (xtrain.shape[0], xtrain.shape[1], 1))\n",
    "xtest = np.stack(xtest)\n",
    "xtest = np.reshape(xtest, (xtest.shape[0], xtest.shape[1], 1))\n",
    "xtrain.shape\n",
    "\n",
    "\n"
   ]
  },
  {
   "cell_type": "code",
   "execution_count": null,
   "metadata": {},
   "outputs": [],
   "source": []
  },
  {
   "cell_type": "markdown",
   "metadata": {},
   "source": [
    "### 1D-CNN"
   ]
  },
  {
   "cell_type": "code",
   "execution_count": 61,
   "metadata": {},
   "outputs": [],
   "source": [
    "def sensitivity(y_true, y_pred):\n",
    "    true_positives = K.sum(K.round(K.clip(y_true * y_pred, 0, 1)))\n",
    "    possible_positives = K.sum(K.round(K.clip(y_true, 0, 1)))\n",
    "    return true_positives / (possible_positives + K.epsilon())\n",
    "def specificity(y_true, y_pred):\n",
    "    true_negatives = K.sum(K.round(K.clip((1-y_true) * (1-y_pred), 0, 1)))\n",
    "    possible_negatives = K.sum(K.round(K.clip(1-y_true, 0, 1)))\n",
    "    return true_negatives / (possible_negatives + K.epsilon())\n",
    "def CNN_2(input_shape, blocks = 2, dropout = 0, regularization = 0.001, kernel_size = 16):  \n",
    "    classifier = Sequential()\n",
    "    classifier.add(Conv1D(filters = 100, kernel_size = kernel_size, activation = 'relu', input_shape = (input_shape, 1)))\n",
    "    classifier.add(Dropout(dropout))\n",
    "    classifier.add(Conv1D(filters = 160, kernel_size = kernel_size, activation = 'relu'))\n",
    "    classifier.add(MaxPooling1D(pool_size = 2))\n",
    "    classifier.add(LeakyReLU())\n",
    "    classifier.add(Dropout(dropout))\n",
    "    classifier.add(LeakyReLU())\n",
    "    classifier.add(GlobalAveragePooling1D())\n",
    "    classifier.add((Dense(1, activation='sigmoid')))\n",
    "   \n",
    "    \n",
    " \n",
    "    \n",
    "    classifier.compile(optimizer = 'adam',\n",
    "                       loss = 'binary_crossentropy',\n",
    "                       metrics = [sensitivity,specificity,'accuracy'])\n",
    "    return classifier"
   ]
  },
  {
   "cell_type": "code",
   "execution_count": 62,
   "metadata": {},
   "outputs": [],
   "source": [
    "MODEL_NUMBER = '1'\n",
    "MODEL = CNN_2\n",
    "BATCH_SIZE = 10\n",
    "EPOCHS = 10 \n"
   ]
  },
  {
   "cell_type": "code",
   "execution_count": null,
   "metadata": {},
   "outputs": [],
   "source": [
    "\n",
    "# TODO Cross Validation"
   ]
  },
  {
   "cell_type": "code",
   "execution_count": 63,
   "metadata": {},
   "outputs": [
    {
     "name": "stdout",
     "output_type": "stream",
     "text": [
      "Train on 5184 samples, validate on 1296 samples\n",
      "Epoch 1/10\n",
      "5184/5184 [==============================] - 246s 47ms/step - loss: 0.5652 - sensitivity: 0.3602 - specificity: 0.8996 - acc: 0.7052 - val_loss: 0.7554 - val_sensitivity: 0.5208 - val_specificity: 0.5008 - val_acc: 0.6829\n",
      "Epoch 2/10\n",
      "5184/5184 [==============================] - 251s 48ms/step - loss: 0.4892 - sensitivity: 0.5367 - specificity: 0.9112 - acc: 0.7805 - val_loss: 0.9304 - val_sensitivity: 0.5763 - val_specificity: 0.4844 - val_acc: 0.7114\n",
      "Epoch 3/10\n",
      "5184/5184 [==============================] - 267s 52ms/step - loss: 0.4641 - sensitivity: 0.5750 - specificity: 0.9250 - acc: 0.7996 - val_loss: 0.6319 - val_sensitivity: 0.4502 - val_specificity: 0.6068 - val_acc: 0.7130\n",
      "Epoch 4/10\n",
      "5184/5184 [==============================] - 243s 47ms/step - loss: 0.4497 - sensitivity: 0.6129 - specificity: 0.9327 - acc: 0.8166 - val_loss: 0.6320 - val_sensitivity: 0.4128 - val_specificity: 0.6140 - val_acc: 0.6898\n",
      "Epoch 5/10\n",
      "5184/5184 [==============================] - 241s 47ms/step - loss: 0.4484 - sensitivity: 0.6108 - specificity: 0.9290 - acc: 0.8194 - val_loss: 0.6552 - val_sensitivity: 0.4993 - val_specificity: 0.6054 - val_acc: 0.7338\n",
      "Epoch 6/10\n",
      "5184/5184 [==============================] - 261s 50ms/step - loss: 0.4289 - sensitivity: 0.6190 - specificity: 0.9422 - acc: 0.8301 - val_loss: 0.8465 - val_sensitivity: 0.6000 - val_specificity: 0.3700 - val_acc: 0.5895\n",
      "Epoch 7/10\n",
      "5184/5184 [==============================] - 264s 51ms/step - loss: 0.4175 - sensitivity: 0.6413 - specificity: 0.9463 - acc: 0.8385 - val_loss: 0.5966 - val_sensitivity: 0.4249 - val_specificity: 0.6507 - val_acc: 0.7037\n",
      "Epoch 8/10\n",
      "5184/5184 [==============================] - 263s 51ms/step - loss: 0.4108 - sensitivity: 0.6544 - specificity: 0.9445 - acc: 0.8426 - val_loss: 0.6631 - val_sensitivity: 0.3299 - val_specificity: 0.6726 - val_acc: 0.6466\n",
      "Epoch 9/10\n",
      "5184/5184 [==============================] - 259s 50ms/step - loss: 0.4079 - sensitivity: 0.6507 - specificity: 0.9427 - acc: 0.8391 - val_loss: 0.6287 - val_sensitivity: 0.4029 - val_specificity: 0.6419 - val_acc: 0.6752\n",
      "Epoch 10/10\n",
      "5184/5184 [==============================] - 239s 46ms/step - loss: 0.4064 - sensitivity: 0.6616 - specificity: 0.9391 - acc: 0.8370 - val_loss: 0.6338 - val_sensitivity: 0.3469 - val_specificity: 0.7137 - val_acc: 0.6821\n"
     ]
    }
   ],
   "source": [
    "params = { 'blocks': 5, 'dropout': 0.1, 'regularization': 0, 'kernel_size': 16, 'reduceLR': True}\n",
    "classifier = MODEL(input_shape=np.shape(xtrain)[1], blocks = params['blocks'], dropout=params['dropout'], regularization=params['regularization'])\n",
    "callbacks = [ReduceLROnPlateau(monitor='val_loss', factor=0.2, patience=3, min_lr=0.001)]\n",
    "\n",
    "class_weights = class_weight.compute_class_weight('balanced',\n",
    "                                                  np.unique(ytrain),\n",
    "                                                  ytrain)\n",
    "history = classifier.fit(xtrain,\n",
    "                         ytrain,\n",
    "                         batch_size = BATCH_SIZE,\n",
    "                         epochs = EPOCHS,\n",
    "                         validation_split=0.2,\n",
    "                         class_weight = class_weights,\n",
    "                         callbacks = callbacks\n",
    "                        )"
   ]
  },
  {
   "cell_type": "code",
   "execution_count": null,
   "metadata": {},
   "outputs": [],
   "source": []
  },
  {
   "cell_type": "code",
   "execution_count": 64,
   "metadata": {},
   "outputs": [],
   "source": [
    "trainpred = classifier.predict_classes(xtrain)\n",
    "testpred = classifier.predict_classes(xtest)"
   ]
  },
  {
   "cell_type": "code",
   "execution_count": 65,
   "metadata": {},
   "outputs": [],
   "source": [
    "def metric(pred, real):\n",
    "    from sklearn.metrics import confusion_matrix\n",
    "    from sklearn.metrics import roc_auc_score\n",
    "    ConfusionMatrix= pd.DataFrame(confusion_matrix(real,pred), columns=['P(y=1)','P(y=0)'], index=['True','False'])\n",
    "    print(ConfusionMatrix)\n",
    "    print('----------------')\n",
    "    print('Precision:', ConfusionMatrix.iloc[0,0] / (ConfusionMatrix.iloc[0,0] + ConfusionMatrix.iloc[1,0]))\n",
    "    print('Recall:', ConfusionMatrix.iloc[0,0] / (ConfusionMatrix.iloc[0,0] + ConfusionMatrix.iloc[1,1]))\n",
    "    print('Accuracy:', (ConfusionMatrix.iloc[0,0] + ConfusionMatrix.iloc[1,1]) / (ConfusionMatrix.iloc[0,0] + ConfusionMatrix.iloc[1,0] + ConfusionMatrix.iloc[0,1] + ConfusionMatrix.iloc[1,1]))\n",
    "    print('AUC:', roc_auc_score(pred,real))"
   ]
  },
  {
   "cell_type": "code",
   "execution_count": 66,
   "metadata": {},
   "outputs": [
    {
     "name": "stdout",
     "output_type": "stream",
     "text": [
      "       P(y=1)  P(y=0)\n",
      "True     1242     137\n",
      "False     700     441\n",
      "----------------\n",
      "Precision: 0.639546858908342\n",
      "Recall: 0.7379679144385026\n",
      "Accuracy: 0.6678571428571428\n",
      "AUC: 0.7012613187275274\n"
     ]
    }
   ],
   "source": [
    "metric([t[0] for t in testpred], ytest)\n"
   ]
  },
  {
   "cell_type": "markdown",
   "metadata": {},
   "source": [
    "### Integrate with randomforest"
   ]
  },
  {
   "cell_type": "code",
   "execution_count": 68,
   "metadata": {},
   "outputs": [],
   "source": [
    "from sklearn import preprocessing\n",
    "\n",
    "col = trainset.drop(['peak','annotation','strip','stripPVC','id','lead'],axis=1).columns.values\n",
    "scale = preprocessing.StandardScaler()\n",
    "scale.fit(trainset.drop(['peak','annotation','strip','stripPVC','id','lead'], axis=1))\n",
    "trainset['cnnProb'] =[t[0] for t in trainpred]\n",
    "testset['cnnProb'] = [t[0] for t in testpred]\n",
    "n_trainset = pd.DataFrame(scale.transform(trainset.drop(['peak','annotation','strip','stripPVC','id','lead'], axis=1)),columns=col)\n",
    "n_testset = pd.DataFrame(scale.transform(testset.drop(['peak','annotation','strip','stripPVC','id','lead'], axis=1)),columns=col)\n"
   ]
  },
  {
   "cell_type": "code",
   "execution_count": 74,
   "metadata": {},
   "outputs": [
    {
     "name": "stdout",
     "output_type": "stream",
     "text": [
      "max features:  5\n",
      "       P(y=1)  P(y=0)\n",
      "True     1320      59\n",
      "False     430     711\n",
      "----------------\n",
      "Precision: 0.7542857142857143\n",
      "Recall: 0.6499261447562777\n",
      "Accuracy: 0.805952380952381\n",
      "AUC: 0.8388311688311688\n",
      "None\n",
      "max features:  6\n",
      "       P(y=1)  P(y=0)\n",
      "True     1291      88\n",
      "False     429     712\n",
      "----------------\n",
      "Precision: 0.7505813953488372\n",
      "Recall: 0.6445332001997004\n",
      "Accuracy: 0.7948412698412698\n",
      "AUC: 0.8202906976744186\n",
      "None\n",
      "max features:  7\n",
      "       P(y=1)  P(y=0)\n",
      "True     1287      92\n",
      "False     430     711\n",
      "----------------\n",
      "Precision: 0.749563191613279\n",
      "Recall: 0.6441441441441441\n",
      "Accuracy: 0.7928571428571428\n",
      "AUC: 0.8174964152337877\n",
      "None\n"
     ]
    }
   ],
   "source": [
    "from sklearn.ensemble import RandomForestClassifier\n",
    "for i in range(5,8):\n",
    "    clf = RandomForestClassifier(n_estimators=100, max_depth=3,max_features=i, random_state=0)\n",
    "    clf.fit(n_trainset , trainset['stripPVC'])\n",
    "    pred = clf.predict(n_testset)\n",
    "    print('max features: ' , i)\n",
    "    print(metric(pred,testset['stripPVC']))"
   ]
  },
  {
   "cell_type": "code",
   "execution_count": null,
   "metadata": {},
   "outputs": [],
   "source": []
  },
  {
   "cell_type": "code",
   "execution_count": null,
   "metadata": {},
   "outputs": [],
   "source": []
  }
 ],
 "metadata": {
  "kernelspec": {
   "display_name": "Python 3",
   "language": "python",
   "name": "python3"
  },
  "language_info": {
   "codemirror_mode": {
    "name": "ipython",
    "version": 3
   },
   "file_extension": ".py",
   "mimetype": "text/x-python",
   "name": "python",
   "nbconvert_exporter": "python",
   "pygments_lexer": "ipython3",
   "version": "3.6.6"
  }
 },
 "nbformat": 4,
 "nbformat_minor": 2
}
